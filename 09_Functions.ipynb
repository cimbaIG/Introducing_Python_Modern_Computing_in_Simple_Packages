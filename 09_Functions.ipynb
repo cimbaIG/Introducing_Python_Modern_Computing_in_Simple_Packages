{
 "cells": [
  {
   "cell_type": "markdown",
   "metadata": {},
   "source": [
    "# Chapter 09\n",
    "## Functions"
   ]
  },
  {
   "cell_type": "markdown",
   "metadata": {},
   "source": [
    "### Generators\n",
    "\n",
    "A generator is a Python sequence creation object. It is a function that returns an object (iterator) which we can iterate over (one value at a time).\n",
    "\n",
    "Generators are often source of data for iterators.\n",
    "\n",
    "Every time you iterate through a generator, it keeps track of where it was the last time it was called and returns the next value. This is different from a normal function, which has no memory of previous calls and always starts at its first line with the same state."
   ]
  },
  {
   "cell_type": "code",
   "execution_count": 93,
   "metadata": {},
   "outputs": [
    {
     "data": {
      "text/plain": [
       "5050"
      ]
     },
     "execution_count": 93,
     "metadata": {},
     "output_type": "execute_result"
    }
   ],
   "source": [
    "sum(range(1,101))"
   ]
  },
  {
   "cell_type": "markdown",
   "metadata": {},
   "source": [
    "##### Generator Functions"
   ]
  },
  {
   "cell_type": "code",
   "execution_count": 94,
   "metadata": {},
   "outputs": [],
   "source": [
    "def my_range(first=0,last=10,step=1):\n",
    "    number = first\n",
    "    while number < last:\n",
    "        yield number\n",
    "        number += step"
   ]
  },
  {
   "cell_type": "code",
   "execution_count": 98,
   "metadata": {},
   "outputs": [
    {
     "data": {
      "text/plain": [
       "<function __main__.my_range(first=0, last=10, step=1)>"
      ]
     },
     "execution_count": 98,
     "metadata": {},
     "output_type": "execute_result"
    }
   ],
   "source": [
    "my_range"
   ]
  },
  {
   "cell_type": "code",
   "execution_count": 105,
   "metadata": {},
   "outputs": [
    {
     "data": {
      "text/plain": [
       "<generator object my_range at 0x7fef60cbbdd0>"
      ]
     },
     "execution_count": 105,
     "metadata": {},
     "output_type": "execute_result"
    }
   ],
   "source": [
    "ranger = my_range(1,5)\n",
    "ranger"
   ]
  },
  {
   "cell_type": "code",
   "execution_count": 106,
   "metadata": {},
   "outputs": [
    {
     "name": "stdout",
     "output_type": "stream",
     "text": [
      "1\n",
      "2\n",
      "3\n",
      "4\n"
     ]
    }
   ],
   "source": [
    "for x in ranger:\n",
    "    print(x)"
   ]
  },
  {
   "cell_type": "code",
   "execution_count": 107,
   "metadata": {},
   "outputs": [],
   "source": [
    "for try_again in ranger:\n",
    "    print(try_again)"
   ]
  },
  {
   "cell_type": "markdown",
   "metadata": {},
   "source": [
    "A generator can be run only once. Lists, sets, strings and dictionaries exist in memory, but a generator creates its values on the fly and hands them out one at a time through an iterator. It doesn't remember them, so you can't restart or back up a generator."
   ]
  },
  {
   "cell_type": "markdown",
   "metadata": {},
   "source": [
    "##### Generator Comprehensions"
   ]
  },
  {
   "cell_type": "markdown",
   "metadata": {},
   "source": [
    "A generator comprehension is surrounded by parentheses ()."
   ]
  },
  {
   "cell_type": "code",
   "execution_count": 127,
   "metadata": {},
   "outputs": [
    {
     "data": {
      "text/plain": [
       "<generator object <genexpr> at 0x7fef60ed3660>"
      ]
     },
     "execution_count": 127,
     "metadata": {},
     "output_type": "execute_result"
    }
   ],
   "source": [
    "genobj = (pair for pair in zip(['a','b'],['1','2']))\n",
    "genobj"
   ]
  },
  {
   "cell_type": "code",
   "execution_count": 128,
   "metadata": {},
   "outputs": [
    {
     "name": "stdout",
     "output_type": "stream",
     "text": [
      "('a', '1')\n",
      "('b', '2')\n"
     ]
    }
   ],
   "source": [
    "for thing in genobj:\n",
    "    print(thing)"
   ]
  },
  {
   "cell_type": "markdown",
   "metadata": {},
   "source": [
    "##### More on generators\n",
    "[programiz.com](https://www.programiz.com/python-programming/generator)"
   ]
  },
  {
   "cell_type": "markdown",
   "metadata": {},
   "source": [
    "If a function contain at least one <code>yield</code> statement (though it can contain more <code>yield</code> and <code>return</code> statements at the same time), it becomes a generator function. Both <code>yield</code> and <code>return</code> will return some value from a function.\n",
    "\n",
    "The difference is that while a <code>return</code> statement terminates a function entirely, <code>yield</code> statement pauses the function saving all its states and later continues from there on successive calls."
   ]
  },
  {
   "cell_type": "code",
   "execution_count": 108,
   "metadata": {},
   "outputs": [],
   "source": [
    "# A simple generator function\n",
    "def my_gen():\n",
    "    n = 1\n",
    "    print('This is printed first.')\n",
    "    # Generator function contains yield statements\n",
    "    yield n\n",
    "\n",
    "    n += 1\n",
    "    print('This is printed second')\n",
    "    yield n\n",
    "\n",
    "    n += 1\n",
    "    print('This is printed at last')\n",
    "    yield n"
   ]
  },
  {
   "cell_type": "code",
   "execution_count": 109,
   "metadata": {},
   "outputs": [],
   "source": [
    "# It returns an object but does not start execution immediately.\n",
    "a = my_gen()"
   ]
  },
  {
   "cell_type": "code",
   "execution_count": 110,
   "metadata": {},
   "outputs": [
    {
     "data": {
      "text/plain": [
       "<generator object my_gen at 0x7fef60cbc350>"
      ]
     },
     "execution_count": 110,
     "metadata": {},
     "output_type": "execute_result"
    }
   ],
   "source": [
    "a"
   ]
  },
  {
   "cell_type": "code",
   "execution_count": 111,
   "metadata": {},
   "outputs": [
    {
     "name": "stdout",
     "output_type": "stream",
     "text": [
      "This is printed first.\n"
     ]
    },
    {
     "data": {
      "text/plain": [
       "1"
      ]
     },
     "execution_count": 111,
     "metadata": {},
     "output_type": "execute_result"
    }
   ],
   "source": [
    "# We can iterate through the items using next().\n",
    "next(a)"
   ]
  },
  {
   "cell_type": "code",
   "execution_count": 112,
   "metadata": {},
   "outputs": [
    {
     "name": "stdout",
     "output_type": "stream",
     "text": [
      "This is printed second\n"
     ]
    },
    {
     "data": {
      "text/plain": [
       "2"
      ]
     },
     "execution_count": 112,
     "metadata": {},
     "output_type": "execute_result"
    }
   ],
   "source": [
    "# Once the function yields, the function is paused and the control is transferred to the caller.\n",
    "# Local variables and theirs states are remembered between successive calls.\n",
    "next(a)"
   ]
  },
  {
   "cell_type": "code",
   "execution_count": 113,
   "metadata": {},
   "outputs": [
    {
     "name": "stdout",
     "output_type": "stream",
     "text": [
      "This is printed at last\n"
     ]
    },
    {
     "data": {
      "text/plain": [
       "3"
      ]
     },
     "execution_count": 113,
     "metadata": {},
     "output_type": "execute_result"
    }
   ],
   "source": [
    "next(a)"
   ]
  },
  {
   "cell_type": "code",
   "execution_count": 114,
   "metadata": {},
   "outputs": [
    {
     "ename": "StopIteration",
     "evalue": "",
     "output_type": "error",
     "traceback": [
      "\u001b[0;31m---------------------------------------------------------------------------\u001b[0m",
      "\u001b[0;31mStopIteration\u001b[0m                             Traceback (most recent call last)",
      "\u001b[1;32m/Users/mihaelcindori/Desktop/Introducing_Python_Modern_Computing_in_Simple_Packages/09_Functions.ipynb Cell 18\u001b[0m in \u001b[0;36m<cell line: 2>\u001b[0;34m()\u001b[0m\n\u001b[1;32m      <a href='vscode-notebook-cell:/Users/mihaelcindori/Desktop/Introducing_Python_Modern_Computing_in_Simple_Packages/09_Functions.ipynb#Y143sZmlsZQ%3D%3D?line=0'>1</a>\u001b[0m \u001b[39m# Finally, when the function terminates, StopIteration is raised automatically on further calls.\u001b[39;00m\n\u001b[0;32m----> <a href='vscode-notebook-cell:/Users/mihaelcindori/Desktop/Introducing_Python_Modern_Computing_in_Simple_Packages/09_Functions.ipynb#Y143sZmlsZQ%3D%3D?line=1'>2</a>\u001b[0m \u001b[39mnext\u001b[39;49m(a)\n",
      "\u001b[0;31mStopIteration\u001b[0m: "
     ]
    }
   ],
   "source": [
    "# Finally, when the function terminates, StopIteration is raised automatically on further calls.\n",
    "next(a)"
   ]
  },
  {
   "cell_type": "markdown",
   "metadata": {},
   "source": [
    "Unlike normal functions, the local variables are not destroyed when the function yields. Furthermore, the generator object can be iterated only once. To restart the process we need to create another generator object using something like <code>a = my_gen()</code>."
   ]
  },
  {
   "cell_type": "code",
   "execution_count": 115,
   "metadata": {},
   "outputs": [
    {
     "name": "stdout",
     "output_type": "stream",
     "text": [
      "This is printed first.\n",
      "1\n",
      "This is printed second\n",
      "2\n",
      "This is printed at last\n",
      "3\n"
     ]
    }
   ],
   "source": [
    "# Using for loop\n",
    "for item in my_gen():\n",
    "    print(item)"
   ]
  },
  {
   "cell_type": "code",
   "execution_count": 116,
   "metadata": {},
   "outputs": [
    {
     "name": "stdout",
     "output_type": "stream",
     "text": [
      "o\n",
      "l\n",
      "l\n",
      "e\n",
      "h\n"
     ]
    }
   ],
   "source": [
    "# Python generator that reverses a string\n",
    "def rev_str(my_str):\n",
    "    length = len(my_str)\n",
    "    for i in range(length - 1, -1, -1):\n",
    "        yield my_str[i]\n",
    "\n",
    "# For loop to reverse the string\n",
    "for char in rev_str('hello'):\n",
    "    print(char)"
   ]
  },
  {
   "cell_type": "markdown",
   "metadata": {},
   "source": [
    "This generator function not only works with strings, but also with other kinds of iterables like <code>list</code>, <code>tuple</code>, etc."
   ]
  },
  {
   "cell_type": "markdown",
   "metadata": {},
   "source": [
    "##### Python Generator Expression"
   ]
  },
  {
   "cell_type": "markdown",
   "metadata": {},
   "source": [
    "Similar to the lambda functions which create anonymous functions, generator expressions create anonymous generator functions.\n",
    "\n",
    "The syntax for generator expression is similar to that of a list comprehension in Python. But the square brackets are replaced with round parentheses.\n",
    "\n",
    "The major difference between a list comprehension and a generator expression is that a list comprehension produces the entire list while the generator expression produces one item at a time.\n",
    "\n",
    "They have lazy execution ( producing items only when asked for ). For this reason, a generator expression is much more memory efficient than an equivalent list comprehension."
   ]
  },
  {
   "cell_type": "code",
   "execution_count": 117,
   "metadata": {},
   "outputs": [
    {
     "name": "stdout",
     "output_type": "stream",
     "text": [
      "[1, 9, 36, 100]\n",
      "<generator object <genexpr> at 0x7fef60cb2040>\n"
     ]
    }
   ],
   "source": [
    "# Initialize the list\n",
    "my_list = [1, 3, 6, 10]\n",
    "\n",
    "# square each term using list comprehension\n",
    "list_ = [x**2 for x in my_list]\n",
    "\n",
    "# same thing can be done using a generator expression\n",
    "# generator expressions are surrounded by parenthesis ()\n",
    "generator = (x**2 for x in my_list)\n",
    "\n",
    "print(list_)\n",
    "print(generator)"
   ]
  },
  {
   "cell_type": "markdown",
   "metadata": {},
   "source": [
    "We can see above that the generator expression did not produce the required result immediately. Instead, it returned a generator object, which produces items only on demand."
   ]
  },
  {
   "cell_type": "code",
   "execution_count": 118,
   "metadata": {},
   "outputs": [
    {
     "name": "stdout",
     "output_type": "stream",
     "text": [
      "1\n",
      "9\n",
      "36\n",
      "100\n"
     ]
    },
    {
     "ename": "StopIteration",
     "evalue": "",
     "output_type": "error",
     "traceback": [
      "\u001b[0;31m---------------------------------------------------------------------------\u001b[0m",
      "\u001b[0;31mStopIteration\u001b[0m                             Traceback (most recent call last)",
      "\u001b[1;32m/Users/mihaelcindori/Desktop/Introducing_Python_Modern_Computing_in_Simple_Packages/09_Functions.ipynb Cell 27\u001b[0m in \u001b[0;36m<cell line: 10>\u001b[0;34m()\u001b[0m\n\u001b[1;32m      <a href='vscode-notebook-cell:/Users/mihaelcindori/Desktop/Introducing_Python_Modern_Computing_in_Simple_Packages/09_Functions.ipynb#Y155sZmlsZQ%3D%3D?line=5'>6</a>\u001b[0m \u001b[39mprint\u001b[39m(\u001b[39mnext\u001b[39m(a))\n\u001b[1;32m      <a href='vscode-notebook-cell:/Users/mihaelcindori/Desktop/Introducing_Python_Modern_Computing_in_Simple_Packages/09_Functions.ipynb#Y155sZmlsZQ%3D%3D?line=7'>8</a>\u001b[0m \u001b[39mprint\u001b[39m(\u001b[39mnext\u001b[39m(a))\n\u001b[0;32m---> <a href='vscode-notebook-cell:/Users/mihaelcindori/Desktop/Introducing_Python_Modern_Computing_in_Simple_Packages/09_Functions.ipynb#Y155sZmlsZQ%3D%3D?line=9'>10</a>\u001b[0m \u001b[39mnext\u001b[39;49m(a)\n",
      "\u001b[0;31mStopIteration\u001b[0m: "
     ]
    }
   ],
   "source": [
    "a = (x**2 for x in my_list)\n",
    "print(next(a))\n",
    "\n",
    "print(next(a))\n",
    "\n",
    "print(next(a))\n",
    "\n",
    "print(next(a))\n",
    "\n",
    "next(a)"
   ]
  },
  {
   "cell_type": "markdown",
   "metadata": {},
   "source": [
    "Generator expressions can be used as function arguments. When used in such a way, the round parentheses can be dropped."
   ]
  },
  {
   "cell_type": "code",
   "execution_count": 120,
   "metadata": {},
   "outputs": [
    {
     "data": {
      "text/plain": [
       "146"
      ]
     },
     "execution_count": 120,
     "metadata": {},
     "output_type": "execute_result"
    }
   ],
   "source": [
    "sum(x**2 for x in my_list)"
   ]
  },
  {
   "cell_type": "code",
   "execution_count": 121,
   "metadata": {},
   "outputs": [
    {
     "data": {
      "text/plain": [
       "100"
      ]
     },
     "execution_count": 121,
     "metadata": {},
     "output_type": "execute_result"
    }
   ],
   "source": [
    "max(x**2 for x in my_list)"
   ]
  },
  {
   "cell_type": "markdown",
   "metadata": {},
   "source": [
    "##### Use of Python Generators"
   ]
  },
  {
   "cell_type": "markdown",
   "metadata": {},
   "source": [
    "**1.) Easy to implement**\n",
    "\n"
   ]
  },
  {
   "cell_type": "markdown",
   "metadata": {},
   "source": [
    "Generators can be implemented in a clear and concise way as compared to their iterator class counterpart. Following is an example to implement a sequence of power of 2 using an iterator class."
   ]
  },
  {
   "cell_type": "code",
   "execution_count": 122,
   "metadata": {},
   "outputs": [],
   "source": [
    "class PowTwo:\n",
    "    def __init__(self,max=0):\n",
    "        self.n = 0\n",
    "        self.max = max\n",
    "    \n",
    "    def __iter__(self):\n",
    "        return self\n",
    "\n",
    "    def __next__(self):\n",
    "        if self.n > self.max:\n",
    "            raise StopIteration\n",
    "\n",
    "        result = 2 ** self.n\n",
    "        self.n += 1\n",
    "        return result"
   ]
  },
  {
   "cell_type": "code",
   "execution_count": 123,
   "metadata": {},
   "outputs": [],
   "source": [
    "def PowTwoGen(max=0):\n",
    "    n = 0\n",
    "    while n < max:\n",
    "        yield 2 ** n\n",
    "        n += 1"
   ]
  },
  {
   "cell_type": "markdown",
   "metadata": {},
   "source": [
    "**2.) Memory Efficient**\n",
    "\n",
    "A normal function to return a sequence will create the entire sequence in memory before returning the result. This is an overkill, if the number of items in the sequence is very large.\n",
    "\n",
    "Generator implementation of such sequences is memory friendly and is preferred since it only produces one item at a time."
   ]
  },
  {
   "cell_type": "markdown",
   "metadata": {},
   "source": [
    "**3.) Represent Infinite Stream**\n",
    "\n",
    "Generators are excellent mediums to represent an infinite stream of data. Infinite streams cannot be stored in memory, and since generators produce only one item at a time, they can represent an infinite stream of data.\n",
    "\n",
    "The following generator function can generate all the even numbers (at least in theory)."
   ]
  },
  {
   "cell_type": "code",
   "execution_count": 124,
   "metadata": {},
   "outputs": [],
   "source": [
    "def all_even():\n",
    "    n = 0\n",
    "    while True:\n",
    "        yield n\n",
    "        n += 2"
   ]
  },
  {
   "cell_type": "markdown",
   "metadata": {},
   "source": [
    "**4.) Pipelining Generators**\n",
    "\n",
    "Multiple generators can be used to pipeline a series of operations. This is best illustrated using an example.\n",
    "\n",
    "Suppose we have a generator that produces the numbers in the Fibonacci series. And we have another generator for squaring numbers.\n",
    "\n",
    "If we want to find out the sum of squares of numbers in the Fibonacci series, we can do it in the following way by pipelining the output of generator functions together."
   ]
  },
  {
   "cell_type": "code",
   "execution_count": 126,
   "metadata": {},
   "outputs": [
    {
     "name": "stdout",
     "output_type": "stream",
     "text": [
      "4895\n"
     ]
    }
   ],
   "source": [
    "def fibonacci_numbers(nums):\n",
    "    x, y = 0, 1\n",
    "    for _ in range(nums):\n",
    "        x, y = y, x+y\n",
    "        yield x\n",
    "\n",
    "def square(nums):\n",
    "    for num in nums:\n",
    "        yield num**2\n",
    "\n",
    "print(sum(square(fibonacci_numbers(10))))"
   ]
  },
  {
   "cell_type": "markdown",
   "metadata": {},
   "source": [
    "### Decorators"
   ]
  },
  {
   "cell_type": "markdown",
   "metadata": {},
   "source": [
    "A decorator is a function that takes one function as input and returns another function."
   ]
  },
  {
   "cell_type": "markdown",
   "metadata": {},
   "source": [
    "##### Decorator definition"
   ]
  },
  {
   "cell_type": "code",
   "execution_count": 52,
   "metadata": {},
   "outputs": [],
   "source": [
    "def document_it(func):\n",
    "    def new_function(*args,**kwargs):\n",
    "        print('Running functions:',func.__name__)\n",
    "        print('Positional arguments:',args)\n",
    "        print('Keyword arguments:',kwargs)\n",
    "        result = func(*args,**kwargs)\n",
    "        print('Result:',result)\n",
    "        return result\n",
    "    return new_function"
   ]
  },
  {
   "cell_type": "code",
   "execution_count": 53,
   "metadata": {},
   "outputs": [
    {
     "data": {
      "text/plain": [
       "8"
      ]
     },
     "execution_count": 53,
     "metadata": {},
     "output_type": "execute_result"
    }
   ],
   "source": [
    "def add_ints(a,b):\n",
    "    return a + b\n",
    "\n",
    "add_ints(3,5)"
   ]
  },
  {
   "cell_type": "markdown",
   "metadata": {},
   "source": [
    "##### Manual decorator assignment"
   ]
  },
  {
   "cell_type": "code",
   "execution_count": 54,
   "metadata": {},
   "outputs": [
    {
     "name": "stdout",
     "output_type": "stream",
     "text": [
      "Running functions: add_ints\n",
      "Positional arguments: (3, 5)\n",
      "Keyword arguments: {}\n",
      "Result: 8\n"
     ]
    },
    {
     "data": {
      "text/plain": [
       "8"
      ]
     },
     "execution_count": 54,
     "metadata": {},
     "output_type": "execute_result"
    }
   ],
   "source": [
    "# Now let's decorate add_ints function.\n",
    "cooler_add_ints = document_it(add_ints)\n",
    "cooler_add_ints(3,5)"
   ]
  },
  {
   "cell_type": "markdown",
   "metadata": {},
   "source": [
    "##### Syntactic sugar"
   ]
  },
  {
   "cell_type": "code",
   "execution_count": 55,
   "metadata": {},
   "outputs": [
    {
     "name": "stdout",
     "output_type": "stream",
     "text": [
      "Running functions: add_ints\n",
      "Positional arguments: (3, 5)\n",
      "Keyword arguments: {}\n",
      "Result: 8\n"
     ]
    },
    {
     "data": {
      "text/plain": [
       "8"
      ]
     },
     "execution_count": 55,
     "metadata": {},
     "output_type": "execute_result"
    }
   ],
   "source": [
    "@document_it\n",
    "def add_ints(a,b):\n",
    "    return a + b\n",
    "\n",
    "add_ints(3,5)"
   ]
  },
  {
   "cell_type": "markdown",
   "metadata": {},
   "source": [
    "##### More than one decorator"
   ]
  },
  {
   "cell_type": "code",
   "execution_count": 56,
   "metadata": {},
   "outputs": [],
   "source": [
    "def square_it(func):\n",
    "    def new_function(*args,**kwargs):\n",
    "        result = func(*args,**kwargs)\n",
    "        return result * result\n",
    "    return new_function"
   ]
  },
  {
   "cell_type": "code",
   "execution_count": 57,
   "metadata": {},
   "outputs": [
    {
     "name": "stdout",
     "output_type": "stream",
     "text": [
      "Running functions: new_function\n",
      "Positional arguments: (3, 5)\n",
      "Keyword arguments: {}\n",
      "Result: 64\n"
     ]
    },
    {
     "data": {
      "text/plain": [
       "64"
      ]
     },
     "execution_count": 57,
     "metadata": {},
     "output_type": "execute_result"
    }
   ],
   "source": [
    "@document_it\n",
    "@square_it\n",
    "def add_ints(a,b):\n",
    "    return a + b\n",
    "\n",
    "add_ints(3,5)"
   ]
  },
  {
   "cell_type": "code",
   "execution_count": 58,
   "metadata": {},
   "outputs": [
    {
     "name": "stdout",
     "output_type": "stream",
     "text": [
      "Running functions: add_ints\n",
      "Positional arguments: (3, 5)\n",
      "Keyword arguments: {}\n",
      "Result: 8\n"
     ]
    },
    {
     "data": {
      "text/plain": [
       "64"
      ]
     },
     "execution_count": 58,
     "metadata": {},
     "output_type": "execute_result"
    }
   ],
   "source": [
    "@square_it\n",
    "@document_it\n",
    "def add_ints(a,b):\n",
    "    return a + b\n",
    "\n",
    "add_ints(3,5)"
   ]
  },
  {
   "cell_type": "markdown",
   "metadata": {},
   "source": [
    "##### More on decorators\n",
    "[Decorators in Python](https://www.programiz.com/python-programming/decorator)"
   ]
  },
  {
   "cell_type": "code",
   "execution_count": 59,
   "metadata": {},
   "outputs": [],
   "source": [
    "def make_pretty(func):\n",
    "    def inner():\n",
    "        print('I got decorated.')\n",
    "        func()\n",
    "    return inner\n",
    "\n",
    "def ordinary():\n",
    "    print('I am ordinary.')"
   ]
  },
  {
   "cell_type": "code",
   "execution_count": 60,
   "metadata": {},
   "outputs": [
    {
     "name": "stdout",
     "output_type": "stream",
     "text": [
      "I am ordinary.\n"
     ]
    }
   ],
   "source": [
    "ordinary()"
   ]
  },
  {
   "cell_type": "code",
   "execution_count": 61,
   "metadata": {},
   "outputs": [],
   "source": [
    "# Now let's decorate ordinary function.\n",
    "pretty = make_pretty(ordinary)"
   ]
  },
  {
   "cell_type": "code",
   "execution_count": 62,
   "metadata": {},
   "outputs": [
    {
     "name": "stdout",
     "output_type": "stream",
     "text": [
      "I got decorated.\n",
      "I am ordinary.\n"
     ]
    }
   ],
   "source": [
    "pretty()"
   ]
  },
  {
   "cell_type": "code",
   "execution_count": 63,
   "metadata": {},
   "outputs": [
    {
     "name": "stdout",
     "output_type": "stream",
     "text": [
      "I got decorated.\n",
      "I am ordinary.\n"
     ]
    }
   ],
   "source": [
    "# Using the syntactic sugar\n",
    "@make_pretty\n",
    "def ordinary():\n",
    "    print('I am ordinary.')\n",
    "\n",
    "ordinary()"
   ]
  },
  {
   "cell_type": "code",
   "execution_count": 64,
   "metadata": {},
   "outputs": [
    {
     "data": {
      "text/plain": [
       "0.6"
      ]
     },
     "execution_count": 64,
     "metadata": {},
     "output_type": "execute_result"
    }
   ],
   "source": [
    "# Decorating functions with parameters\n",
    "def divide(a,b):\n",
    "    return a / b\n",
    "\n",
    "divide(3,5)"
   ]
  },
  {
   "cell_type": "code",
   "execution_count": 65,
   "metadata": {},
   "outputs": [],
   "source": [
    "def smart_divide(func):\n",
    "    def inner(a,b):\n",
    "        print('I am going to divide',a,'and',b,':')\n",
    "        if b == 0:\n",
    "            print('Whoops! Cannot divide.')\n",
    "            return\n",
    "        return func(a,b)\n",
    "    return inner"
   ]
  },
  {
   "cell_type": "code",
   "execution_count": 66,
   "metadata": {},
   "outputs": [
    {
     "name": "stdout",
     "output_type": "stream",
     "text": [
      "I am going to divide 3 and 5 :\n",
      "0.6\n",
      "I am going to divide 2 and 0 :\n",
      "Whoops! Cannot divide.\n"
     ]
    }
   ],
   "source": [
    "@smart_divide\n",
    "def divide(a,b):\n",
    "    return a / b\n",
    "\n",
    "print(divide(3,5))\n",
    "divide(2,0)"
   ]
  },
  {
   "cell_type": "code",
   "execution_count": 67,
   "metadata": {},
   "outputs": [],
   "source": [
    "# Chaining decorators\n",
    "def star(func):\n",
    "    def inner(*args,**kwargs):\n",
    "        print('*' * 30)\n",
    "        func(*args,**kwargs)\n",
    "        print('*' * 30)\n",
    "    return inner\n",
    "\n",
    "def percent(func):\n",
    "    def inner(*args,**kwargs):\n",
    "        print('%' * 30)\n",
    "        func(*args,**kwargs)\n",
    "        print('%' * 30)\n",
    "    return inner    "
   ]
  },
  {
   "cell_type": "code",
   "execution_count": 68,
   "metadata": {},
   "outputs": [
    {
     "name": "stdout",
     "output_type": "stream",
     "text": [
      "******************************\n",
      "%%%%%%%%%%%%%%%%%%%%%%%%%%%%%%\n",
      "Hello.\n",
      "%%%%%%%%%%%%%%%%%%%%%%%%%%%%%%\n",
      "******************************\n"
     ]
    }
   ],
   "source": [
    "@star\n",
    "@percent\n",
    "def printer(msg):\n",
    "    print(msg)\n",
    "\n",
    "printer('Hello.')"
   ]
  },
  {
   "cell_type": "code",
   "execution_count": 69,
   "metadata": {},
   "outputs": [
    {
     "name": "stdout",
     "output_type": "stream",
     "text": [
      "%%%%%%%%%%%%%%%%%%%%%%%%%%%%%%\n",
      "******************************\n",
      "Hello.\n",
      "******************************\n",
      "%%%%%%%%%%%%%%%%%%%%%%%%%%%%%%\n"
     ]
    }
   ],
   "source": [
    "@percent\n",
    "@star\n",
    "def printer(msg):\n",
    "    print(msg)\n",
    "\n",
    "printer('Hello.')"
   ]
  },
  {
   "cell_type": "markdown",
   "metadata": {},
   "source": [
    "### Namespaces and Scope"
   ]
  },
  {
   "cell_type": "code",
   "execution_count": 70,
   "metadata": {},
   "outputs": [
    {
     "name": "stdout",
     "output_type": "stream",
     "text": [
      "at the top level: fruitbat\n",
      "inside print_global: fruitbat\n"
     ]
    }
   ],
   "source": [
    "animal = 'fruitbat'\n",
    "\n",
    "def print_global():\n",
    "    print('inside print_global:',animal)\n",
    "\n",
    "print('at the top level:',animal)\n",
    "print_global()"
   ]
  },
  {
   "cell_type": "code",
   "execution_count": 71,
   "metadata": {},
   "outputs": [
    {
     "ename": "UnboundLocalError",
     "evalue": "local variable 'animal' referenced before assignment",
     "output_type": "error",
     "traceback": [
      "\u001b[0;31m---------------------------------------------------------------------------\u001b[0m",
      "\u001b[0;31mUnboundLocalError\u001b[0m                         Traceback (most recent call last)",
      "\u001b[1;32m/Users/mihaelcindori/Desktop/Introducing_Python_Modern_Computing_in_Simple_Packages/09_Functions.ipynb Cell 29\u001b[0m in \u001b[0;36m<cell line: 6>\u001b[0;34m()\u001b[0m\n\u001b[1;32m      <a href='vscode-notebook-cell:/Users/mihaelcindori/Desktop/Introducing_Python_Modern_Computing_in_Simple_Packages/09_Functions.ipynb#X45sZmlsZQ%3D%3D?line=2'>3</a>\u001b[0m     animal \u001b[39m=\u001b[39m \u001b[39m'\u001b[39m\u001b[39mwombat\u001b[39m\u001b[39m'\u001b[39m\n\u001b[1;32m      <a href='vscode-notebook-cell:/Users/mihaelcindori/Desktop/Introducing_Python_Modern_Computing_in_Simple_Packages/09_Functions.ipynb#X45sZmlsZQ%3D%3D?line=3'>4</a>\u001b[0m     \u001b[39mprint\u001b[39m(\u001b[39m'\u001b[39m\u001b[39mafter the change:\u001b[39m\u001b[39m'\u001b[39m,animal)\n\u001b[0;32m----> <a href='vscode-notebook-cell:/Users/mihaelcindori/Desktop/Introducing_Python_Modern_Computing_in_Simple_Packages/09_Functions.ipynb#X45sZmlsZQ%3D%3D?line=5'>6</a>\u001b[0m change_and_print_global()\n",
      "\u001b[1;32m/Users/mihaelcindori/Desktop/Introducing_Python_Modern_Computing_in_Simple_Packages/09_Functions.ipynb Cell 29\u001b[0m in \u001b[0;36mchange_and_print_global\u001b[0;34m()\u001b[0m\n\u001b[1;32m      <a href='vscode-notebook-cell:/Users/mihaelcindori/Desktop/Introducing_Python_Modern_Computing_in_Simple_Packages/09_Functions.ipynb#X45sZmlsZQ%3D%3D?line=0'>1</a>\u001b[0m \u001b[39mdef\u001b[39;00m \u001b[39mchange_and_print_global\u001b[39m():\n\u001b[0;32m----> <a href='vscode-notebook-cell:/Users/mihaelcindori/Desktop/Introducing_Python_Modern_Computing_in_Simple_Packages/09_Functions.ipynb#X45sZmlsZQ%3D%3D?line=1'>2</a>\u001b[0m     \u001b[39mprint\u001b[39m(\u001b[39m'\u001b[39m\u001b[39minside change_and_print_global:\u001b[39m\u001b[39m'\u001b[39m,animal)\n\u001b[1;32m      <a href='vscode-notebook-cell:/Users/mihaelcindori/Desktop/Introducing_Python_Modern_Computing_in_Simple_Packages/09_Functions.ipynb#X45sZmlsZQ%3D%3D?line=2'>3</a>\u001b[0m     animal \u001b[39m=\u001b[39m \u001b[39m'\u001b[39m\u001b[39mwombat\u001b[39m\u001b[39m'\u001b[39m\n\u001b[1;32m      <a href='vscode-notebook-cell:/Users/mihaelcindori/Desktop/Introducing_Python_Modern_Computing_in_Simple_Packages/09_Functions.ipynb#X45sZmlsZQ%3D%3D?line=3'>4</a>\u001b[0m     \u001b[39mprint\u001b[39m(\u001b[39m'\u001b[39m\u001b[39mafter the change:\u001b[39m\u001b[39m'\u001b[39m,animal)\n",
      "\u001b[0;31mUnboundLocalError\u001b[0m: local variable 'animal' referenced before assignment"
     ]
    }
   ],
   "source": [
    "def change_and_print_global():\n",
    "    print('inside change_and_print_global:',animal)\n",
    "    animal = 'wombat'\n",
    "    print('after the change:',animal)\n",
    "\n",
    "change_and_print_global()"
   ]
  },
  {
   "cell_type": "code",
   "execution_count": 72,
   "metadata": {},
   "outputs": [
    {
     "name": "stdout",
     "output_type": "stream",
     "text": [
      "inside change_local: wombat 140665565420272\n"
     ]
    }
   ],
   "source": [
    "def change_local():\n",
    "    animal = 'wombat'\n",
    "    print('inside change_local:',animal,id(animal))\n",
    "\n",
    "change_local()"
   ]
  },
  {
   "cell_type": "code",
   "execution_count": 73,
   "metadata": {},
   "outputs": [
    {
     "data": {
      "text/plain": [
       "'fruitbat'"
      ]
     },
     "execution_count": 73,
     "metadata": {},
     "output_type": "execute_result"
    }
   ],
   "source": [
    "animal"
   ]
  },
  {
   "cell_type": "code",
   "execution_count": 74,
   "metadata": {},
   "outputs": [
    {
     "data": {
      "text/plain": [
       "140665565538416"
      ]
     },
     "execution_count": 74,
     "metadata": {},
     "output_type": "execute_result"
    }
   ],
   "source": [
    "id(animal)"
   ]
  },
  {
   "cell_type": "code",
   "execution_count": 75,
   "metadata": {},
   "outputs": [],
   "source": [
    "def change_and_print_global():\n",
    "    global animal\n",
    "    animal = 'wombat'\n",
    "    print('inside change_and_print_global:',animal)"
   ]
  },
  {
   "cell_type": "code",
   "execution_count": 76,
   "metadata": {},
   "outputs": [
    {
     "data": {
      "text/plain": [
       "'fruitbat'"
      ]
     },
     "execution_count": 76,
     "metadata": {},
     "output_type": "execute_result"
    }
   ],
   "source": [
    "animal"
   ]
  },
  {
   "cell_type": "code",
   "execution_count": 77,
   "metadata": {},
   "outputs": [
    {
     "name": "stdout",
     "output_type": "stream",
     "text": [
      "inside change_and_print_global: wombat\n"
     ]
    }
   ],
   "source": [
    "change_and_print_global()"
   ]
  },
  {
   "cell_type": "code",
   "execution_count": 78,
   "metadata": {},
   "outputs": [
    {
     "data": {
      "text/plain": [
       "'wombat'"
      ]
     },
     "execution_count": 78,
     "metadata": {},
     "output_type": "execute_result"
    }
   ],
   "source": [
    "animal"
   ]
  },
  {
   "cell_type": "markdown",
   "metadata": {},
   "source": [
    "##### Using <code>.locals()</code> and <code>.globals()</code> functions\n",
    "\n",
    "* <code>.locals()</code> returns a dictionary of the contents of the local namespaces.\n",
    "\n",
    "* <code>.globals()</code> returns a dictionary of the contents of the global namespaces."
   ]
  },
  {
   "cell_type": "code",
   "execution_count": 79,
   "metadata": {},
   "outputs": [],
   "source": [
    "animal = 'fruitbat'\n",
    "\n",
    "def change_local():\n",
    "    animal = 'wombat'\n",
    "    print('locals',locals())"
   ]
  },
  {
   "cell_type": "code",
   "execution_count": 80,
   "metadata": {},
   "outputs": [
    {
     "data": {
      "text/plain": [
       "'fruitbat'"
      ]
     },
     "execution_count": 80,
     "metadata": {},
     "output_type": "execute_result"
    }
   ],
   "source": [
    "animal"
   ]
  },
  {
   "cell_type": "code",
   "execution_count": 81,
   "metadata": {},
   "outputs": [
    {
     "name": "stdout",
     "output_type": "stream",
     "text": [
      "locals {'animal': 'wombat'}\n"
     ]
    }
   ],
   "source": [
    "change_local()"
   ]
  },
  {
   "cell_type": "code",
   "execution_count": 82,
   "metadata": {},
   "outputs": [
    {
     "name": "stdout",
     "output_type": "stream",
     "text": [
      "globals: {'__name__': '__main__', '__doc__': 'Automatically created module for IPython interactive environment', '__package__': None, '__loader__': None, '__spec__': None, '__builtin__': <module 'builtins' (built-in)>, '__builtins__': <module 'builtins' (built-in)>, '_ih': ['', \"def document_it(func):\\n    def new_function(*args,**kwargs):\\n        print('Running functions:',func.__name__)\\n        print('Positional arguments:',args)\\n        print('Keyword arguments:',kwargs)\\n        result = func(*args,**kwargs)\\n        print('Result:',result)\\n        return result\\n    return new_function\", 'def add_ints(a,b):\\n    return a + b\\n\\nadd_ints()', 'def add_ints(a,b):\\n    return a + b\\n\\nadd_ints(3,5)', 'cooler_add_ints = document_it(add_ints)\\ncooler_add_ints(3,5)', '@document_it\\ndef add_ints(a,b):\\n    return a + b\\n\\nadd_ints(3,5)', 'def square_it(func):\\n    def new_function(*args,**kwargs):\\n        result = func(*args,**kwargs)\\n        return result * result\\n    return new_function', 'def square_it(func):\\n    def new_function(*args,**kwargs):\\n        result = func(*args,**kwargs)\\n        return result * result\\n    return new_function', '@document_it\\n@square_it\\ndef add_ints(a,b):\\n    return a + b\\n\\nadd_ints(3,5)', '@square_it\\n@document_it\\ndef add_ints(a,b):\\n    return a + b\\n\\nadd_ints(3,5)', \"def make_pretty(func):\\n    def inner():\\n        print('I got decorated.')\\n        return func\\n    return inner\\n\\ndef ordinary():\\n    print('I am ordinary.')\", 'ordinary()', 'pretty = make_pretty(ordinary)', 'pretty()', \"def make_pretty(func):\\n    def inner():\\n        print('I got decorated.')\\n        func()\\n    return inner\\n\\ndef ordinary():\\n    print('I am ordinary.')\", 'ordinary()', 'pretty = make_pretty(ordinary)', 'pretty()', \"def document_it(func):\\n    def new_function(*args,**kwargs):\\n        print('Running functions:',func.__name__)\\n        print('Positional arguments:',args)\\n        print('Keyword arguments:',kwargs)\\n        result = func(*args,**kwargs)\\n        print('Result:',result)\\n        return result\\n    return new_function\", 'def add_ints(a,b):\\n    return a + b\\n\\nadd_ints(3,5)', \"# Now let's decorate add_ints function.\\ncooler_add_ints = document_it(add_ints)\\ncooler_add_ints(3,5)\", '@document_it\\ndef add_ints(a,b):\\n    return a + b\\n\\nadd_ints(3,5)', 'def square_it(func):\\n    def new_function(*args,**kwargs):\\n        result = func(*args,**kwargs)\\n        return result * result\\n    return new_function', '@document_it\\n@square_it\\ndef add_ints(a,b):\\n    return a + b\\n\\nadd_ints(3,5)', '@square_it\\n@document_it\\ndef add_ints(a,b):\\n    return a + b\\n\\nadd_ints(3,5)', \"def make_pretty(func):\\n    def inner():\\n        print('I got decorated.')\\n        func()\\n    return inner\\n\\ndef ordinary():\\n    print('I am ordinary.')\", 'ordinary()', \"# Now let's decorate ordinary function.\\npretty = make_pretty(ordinary)\", 'pretty()', \"# Using the syntactic sugar\\n@make_pretty\\ndef ordinary():\\n    print('I am ordinary.')\\n\\nordinary()\", '# Decorating functions with parameters\\ndef divide(a,b):\\n    return a / b\\n\\ndivide(3,5)', '# Decorating functions with parameters\\ndef divide(a,b):\\n    return a / b\\n\\ndivide(3,5)\\ndivide(2,0)', '# Decorating functions with parameters\\ndef divide(a,b):\\n    return a / b\\n\\ndivide(3,5)', 'divide(2,0)', \"def smart_divide(func):\\n    def inner(a,b):\\n        print('I am going to divide',a,'and',b)\\n        if b == 0:\\n            print('Whoops! Cannot divide.')\\n            return\\n        return func(a,b)\\n    return inner\", '@smart_divide\\ndef divide(a,b):\\n    return a / b\\n\\ndivide(3,5)\\ndivide(2,0)', '@smart_divide\\ndef divide(a,b):\\n    return a / b\\n\\nprint(divide(3,5))\\ndivide(2,0)', \"def smart_divide(func):\\n    def inner(a,b):\\n        print('I am going to divide',a,'and',b,':')\\n        if b == 0:\\n            print('Whoops! Cannot divide.')\\n            return\\n        return func(a,b)\\n    return inner\", '@smart_divide\\ndef divide(a,b):\\n    return a / b\\n\\nprint(divide(3,5))\\ndivide(2,0)', \"# Chaining decorators\\n\\n\\ndef printer(msg):\\n    print(msg)\\n\\nprint('Hello.')\", \"# Chaining decorators\\n\\n\\ndef printer(msg):\\n    print(msg)\\n\\nprinter('Hello.')\", \"# Chaining decorators\\ndef star(func):\\n    def inner(*args,**kwargs):\\n        print('*' * 30)\\n        func(*args,**kwargs)\\n        print('*' * 30)\\n    return inner\\n\\ndef printer(msg):\\n    print(msg)\\n\\n@star\\nprinter('Hello.')\", \"# Chaining decorators\\ndef star(func):\\n    def inner(*args,**kwargs):\\n        print('*' * 30)\\n        func(*args,**kwargs)\\n        print('*' * 30)\\n    return inner\\n\\n@star\\ndef printer(msg):\\n    print(msg)\\n\\nprinter('Hello.')\", \"# Chaining decorators\\ndef star(func):\\n    def inner(*args,**kwargs):\\n        print('*' * 30)\\n        func(*args,**kwargs)\\n        print('*' * 30)\\n    return inner\\n\\ndef percent(func):\\n    def inner(*args,**kwargs):\\n        print('%' * 30)\\n        func(*args,**kwargs)\\n        print('%' * 30)\\n    return inner    \", \"@star\\n@percent\\ndef printer(msg):\\n    print(msg)\\n\\nprinter('Hello.')\", \"@percent\\n@star\\ndef printer(msg):\\n    print(msg)\\n\\nprinter('Hello.')\", \"animal = 'fruitbat'\\n\\ndef print_global():\\n    print('inside print_global:',animal)\\n\\nprint('at the top level:',animal)\\nprint_global()\", \"def change_and_print_global():\\n    print('inside change_and_print_global:',animal)\\n    animal = 'wombat'\\n    print('after the change:',animal)\\n\\nchange_and_print_global()\", \"def change_local():\\n    animal = 'wombat'\\n    print('inside change_local:',animal,id(animal))\", \"def change_local():\\n    animal = 'wombat'\\n    print('inside change_local:',animal,id(animal))\\n\\nchange_local()\", 'animal', 'id(animal)', \"def document_it(func):\\n    def new_function(*args,**kwargs):\\n        print('Running functions:',func.__name__)\\n        print('Positional arguments:',args)\\n        print('Keyword arguments:',kwargs)\\n        result = func(*args,**kwargs)\\n        print('Result:',result)\\n        return result\\n    return new_function\", 'def add_ints(a,b):\\n    return a + b\\n\\nadd_ints(3,5)', \"# Now let's decorate add_ints function.\\ncooler_add_ints = document_it(add_ints)\\ncooler_add_ints(3,5)\", '@document_it\\ndef add_ints(a,b):\\n    return a + b\\n\\nadd_ints(3,5)', 'def square_it(func):\\n    def new_function(*args,**kwargs):\\n        result = func(*args,**kwargs)\\n        return result * result\\n    return new_function', '@document_it\\n@square_it\\ndef add_ints(a,b):\\n    return a + b\\n\\nadd_ints(3,5)', '@square_it\\n@document_it\\ndef add_ints(a,b):\\n    return a + b\\n\\nadd_ints(3,5)', \"def make_pretty(func):\\n    def inner():\\n        print('I got decorated.')\\n        func()\\n    return inner\\n\\ndef ordinary():\\n    print('I am ordinary.')\", 'ordinary()', \"# Now let's decorate ordinary function.\\npretty = make_pretty(ordinary)\", 'pretty()', \"# Using the syntactic sugar\\n@make_pretty\\ndef ordinary():\\n    print('I am ordinary.')\\n\\nordinary()\", '# Decorating functions with parameters\\ndef divide(a,b):\\n    return a / b\\n\\ndivide(3,5)', \"def smart_divide(func):\\n    def inner(a,b):\\n        print('I am going to divide',a,'and',b,':')\\n        if b == 0:\\n            print('Whoops! Cannot divide.')\\n            return\\n        return func(a,b)\\n    return inner\", '@smart_divide\\ndef divide(a,b):\\n    return a / b\\n\\nprint(divide(3,5))\\ndivide(2,0)', \"# Chaining decorators\\ndef star(func):\\n    def inner(*args,**kwargs):\\n        print('*' * 30)\\n        func(*args,**kwargs)\\n        print('*' * 30)\\n    return inner\\n\\ndef percent(func):\\n    def inner(*args,**kwargs):\\n        print('%' * 30)\\n        func(*args,**kwargs)\\n        print('%' * 30)\\n    return inner    \", \"@star\\n@percent\\ndef printer(msg):\\n    print(msg)\\n\\nprinter('Hello.')\", \"@percent\\n@star\\ndef printer(msg):\\n    print(msg)\\n\\nprinter('Hello.')\", \"animal = 'fruitbat'\\n\\ndef print_global():\\n    print('inside print_global:',animal)\\n\\nprint('at the top level:',animal)\\nprint_global()\", \"def change_and_print_global():\\n    print('inside change_and_print_global:',animal)\\n    animal = 'wombat'\\n    print('after the change:',animal)\\n\\nchange_and_print_global()\", \"def change_local():\\n    animal = 'wombat'\\n    print('inside change_local:',animal,id(animal))\\n\\nchange_local()\", 'animal', 'id(animal)', \"def change_and_print_global():\\n    global animal\\n    animal = 'wombat'\\n    print('inside change_and_print_global:',animal)\", 'animal', 'change_and_print_global()', 'animal', \"animal = 'fruitbat'\\n\\ndef change_local():\\n    animal = 'wombat'\\n    print('locals',locals())\", 'animal', 'change_local()', \"print('globals:',globals())\"], '_oh': {3: 8, 4: 8, 5: 8, 8: 64, 9: 64, 13: <function ordinary at 0x7fef40c938b0>, 19: 8, 20: 8, 21: 8, 23: 64, 24: 64, 30: 0.6, 32: 0.6, 50: 'fruitbat', 51: 140665565538416, 53: 8, 54: 8, 55: 8, 57: 64, 58: 64, 64: 0.6, 73: 'fruitbat', 74: 140665565538416, 76: 'fruitbat', 78: 'wombat', 80: 'fruitbat'}, '_dh': [PosixPath('/Users/mihaelcindori/Desktop/Introducing_Python_Modern_Computing_in_Simple_Packages')], 'In': ['', \"def document_it(func):\\n    def new_function(*args,**kwargs):\\n        print('Running functions:',func.__name__)\\n        print('Positional arguments:',args)\\n        print('Keyword arguments:',kwargs)\\n        result = func(*args,**kwargs)\\n        print('Result:',result)\\n        return result\\n    return new_function\", 'def add_ints(a,b):\\n    return a + b\\n\\nadd_ints()', 'def add_ints(a,b):\\n    return a + b\\n\\nadd_ints(3,5)', 'cooler_add_ints = document_it(add_ints)\\ncooler_add_ints(3,5)', '@document_it\\ndef add_ints(a,b):\\n    return a + b\\n\\nadd_ints(3,5)', 'def square_it(func):\\n    def new_function(*args,**kwargs):\\n        result = func(*args,**kwargs)\\n        return result * result\\n    return new_function', 'def square_it(func):\\n    def new_function(*args,**kwargs):\\n        result = func(*args,**kwargs)\\n        return result * result\\n    return new_function', '@document_it\\n@square_it\\ndef add_ints(a,b):\\n    return a + b\\n\\nadd_ints(3,5)', '@square_it\\n@document_it\\ndef add_ints(a,b):\\n    return a + b\\n\\nadd_ints(3,5)', \"def make_pretty(func):\\n    def inner():\\n        print('I got decorated.')\\n        return func\\n    return inner\\n\\ndef ordinary():\\n    print('I am ordinary.')\", 'ordinary()', 'pretty = make_pretty(ordinary)', 'pretty()', \"def make_pretty(func):\\n    def inner():\\n        print('I got decorated.')\\n        func()\\n    return inner\\n\\ndef ordinary():\\n    print('I am ordinary.')\", 'ordinary()', 'pretty = make_pretty(ordinary)', 'pretty()', \"def document_it(func):\\n    def new_function(*args,**kwargs):\\n        print('Running functions:',func.__name__)\\n        print('Positional arguments:',args)\\n        print('Keyword arguments:',kwargs)\\n        result = func(*args,**kwargs)\\n        print('Result:',result)\\n        return result\\n    return new_function\", 'def add_ints(a,b):\\n    return a + b\\n\\nadd_ints(3,5)', \"# Now let's decorate add_ints function.\\ncooler_add_ints = document_it(add_ints)\\ncooler_add_ints(3,5)\", '@document_it\\ndef add_ints(a,b):\\n    return a + b\\n\\nadd_ints(3,5)', 'def square_it(func):\\n    def new_function(*args,**kwargs):\\n        result = func(*args,**kwargs)\\n        return result * result\\n    return new_function', '@document_it\\n@square_it\\ndef add_ints(a,b):\\n    return a + b\\n\\nadd_ints(3,5)', '@square_it\\n@document_it\\ndef add_ints(a,b):\\n    return a + b\\n\\nadd_ints(3,5)', \"def make_pretty(func):\\n    def inner():\\n        print('I got decorated.')\\n        func()\\n    return inner\\n\\ndef ordinary():\\n    print('I am ordinary.')\", 'ordinary()', \"# Now let's decorate ordinary function.\\npretty = make_pretty(ordinary)\", 'pretty()', \"# Using the syntactic sugar\\n@make_pretty\\ndef ordinary():\\n    print('I am ordinary.')\\n\\nordinary()\", '# Decorating functions with parameters\\ndef divide(a,b):\\n    return a / b\\n\\ndivide(3,5)', '# Decorating functions with parameters\\ndef divide(a,b):\\n    return a / b\\n\\ndivide(3,5)\\ndivide(2,0)', '# Decorating functions with parameters\\ndef divide(a,b):\\n    return a / b\\n\\ndivide(3,5)', 'divide(2,0)', \"def smart_divide(func):\\n    def inner(a,b):\\n        print('I am going to divide',a,'and',b)\\n        if b == 0:\\n            print('Whoops! Cannot divide.')\\n            return\\n        return func(a,b)\\n    return inner\", '@smart_divide\\ndef divide(a,b):\\n    return a / b\\n\\ndivide(3,5)\\ndivide(2,0)', '@smart_divide\\ndef divide(a,b):\\n    return a / b\\n\\nprint(divide(3,5))\\ndivide(2,0)', \"def smart_divide(func):\\n    def inner(a,b):\\n        print('I am going to divide',a,'and',b,':')\\n        if b == 0:\\n            print('Whoops! Cannot divide.')\\n            return\\n        return func(a,b)\\n    return inner\", '@smart_divide\\ndef divide(a,b):\\n    return a / b\\n\\nprint(divide(3,5))\\ndivide(2,0)', \"# Chaining decorators\\n\\n\\ndef printer(msg):\\n    print(msg)\\n\\nprint('Hello.')\", \"# Chaining decorators\\n\\n\\ndef printer(msg):\\n    print(msg)\\n\\nprinter('Hello.')\", \"# Chaining decorators\\ndef star(func):\\n    def inner(*args,**kwargs):\\n        print('*' * 30)\\n        func(*args,**kwargs)\\n        print('*' * 30)\\n    return inner\\n\\ndef printer(msg):\\n    print(msg)\\n\\n@star\\nprinter('Hello.')\", \"# Chaining decorators\\ndef star(func):\\n    def inner(*args,**kwargs):\\n        print('*' * 30)\\n        func(*args,**kwargs)\\n        print('*' * 30)\\n    return inner\\n\\n@star\\ndef printer(msg):\\n    print(msg)\\n\\nprinter('Hello.')\", \"# Chaining decorators\\ndef star(func):\\n    def inner(*args,**kwargs):\\n        print('*' * 30)\\n        func(*args,**kwargs)\\n        print('*' * 30)\\n    return inner\\n\\ndef percent(func):\\n    def inner(*args,**kwargs):\\n        print('%' * 30)\\n        func(*args,**kwargs)\\n        print('%' * 30)\\n    return inner    \", \"@star\\n@percent\\ndef printer(msg):\\n    print(msg)\\n\\nprinter('Hello.')\", \"@percent\\n@star\\ndef printer(msg):\\n    print(msg)\\n\\nprinter('Hello.')\", \"animal = 'fruitbat'\\n\\ndef print_global():\\n    print('inside print_global:',animal)\\n\\nprint('at the top level:',animal)\\nprint_global()\", \"def change_and_print_global():\\n    print('inside change_and_print_global:',animal)\\n    animal = 'wombat'\\n    print('after the change:',animal)\\n\\nchange_and_print_global()\", \"def change_local():\\n    animal = 'wombat'\\n    print('inside change_local:',animal,id(animal))\", \"def change_local():\\n    animal = 'wombat'\\n    print('inside change_local:',animal,id(animal))\\n\\nchange_local()\", 'animal', 'id(animal)', \"def document_it(func):\\n    def new_function(*args,**kwargs):\\n        print('Running functions:',func.__name__)\\n        print('Positional arguments:',args)\\n        print('Keyword arguments:',kwargs)\\n        result = func(*args,**kwargs)\\n        print('Result:',result)\\n        return result\\n    return new_function\", 'def add_ints(a,b):\\n    return a + b\\n\\nadd_ints(3,5)', \"# Now let's decorate add_ints function.\\ncooler_add_ints = document_it(add_ints)\\ncooler_add_ints(3,5)\", '@document_it\\ndef add_ints(a,b):\\n    return a + b\\n\\nadd_ints(3,5)', 'def square_it(func):\\n    def new_function(*args,**kwargs):\\n        result = func(*args,**kwargs)\\n        return result * result\\n    return new_function', '@document_it\\n@square_it\\ndef add_ints(a,b):\\n    return a + b\\n\\nadd_ints(3,5)', '@square_it\\n@document_it\\ndef add_ints(a,b):\\n    return a + b\\n\\nadd_ints(3,5)', \"def make_pretty(func):\\n    def inner():\\n        print('I got decorated.')\\n        func()\\n    return inner\\n\\ndef ordinary():\\n    print('I am ordinary.')\", 'ordinary()', \"# Now let's decorate ordinary function.\\npretty = make_pretty(ordinary)\", 'pretty()', \"# Using the syntactic sugar\\n@make_pretty\\ndef ordinary():\\n    print('I am ordinary.')\\n\\nordinary()\", '# Decorating functions with parameters\\ndef divide(a,b):\\n    return a / b\\n\\ndivide(3,5)', \"def smart_divide(func):\\n    def inner(a,b):\\n        print('I am going to divide',a,'and',b,':')\\n        if b == 0:\\n            print('Whoops! Cannot divide.')\\n            return\\n        return func(a,b)\\n    return inner\", '@smart_divide\\ndef divide(a,b):\\n    return a / b\\n\\nprint(divide(3,5))\\ndivide(2,0)', \"# Chaining decorators\\ndef star(func):\\n    def inner(*args,**kwargs):\\n        print('*' * 30)\\n        func(*args,**kwargs)\\n        print('*' * 30)\\n    return inner\\n\\ndef percent(func):\\n    def inner(*args,**kwargs):\\n        print('%' * 30)\\n        func(*args,**kwargs)\\n        print('%' * 30)\\n    return inner    \", \"@star\\n@percent\\ndef printer(msg):\\n    print(msg)\\n\\nprinter('Hello.')\", \"@percent\\n@star\\ndef printer(msg):\\n    print(msg)\\n\\nprinter('Hello.')\", \"animal = 'fruitbat'\\n\\ndef print_global():\\n    print('inside print_global:',animal)\\n\\nprint('at the top level:',animal)\\nprint_global()\", \"def change_and_print_global():\\n    print('inside change_and_print_global:',animal)\\n    animal = 'wombat'\\n    print('after the change:',animal)\\n\\nchange_and_print_global()\", \"def change_local():\\n    animal = 'wombat'\\n    print('inside change_local:',animal,id(animal))\\n\\nchange_local()\", 'animal', 'id(animal)', \"def change_and_print_global():\\n    global animal\\n    animal = 'wombat'\\n    print('inside change_and_print_global:',animal)\", 'animal', 'change_and_print_global()', 'animal', \"animal = 'fruitbat'\\n\\ndef change_local():\\n    animal = 'wombat'\\n    print('locals',locals())\", 'animal', 'change_local()', \"print('globals:',globals())\"], 'Out': {3: 8, 4: 8, 5: 8, 8: 64, 9: 64, 13: <function ordinary at 0x7fef40c938b0>, 19: 8, 20: 8, 21: 8, 23: 64, 24: 64, 30: 0.6, 32: 0.6, 50: 'fruitbat', 51: 140665565538416, 53: 8, 54: 8, 55: 8, 57: 64, 58: 64, 64: 0.6, 73: 'fruitbat', 74: 140665565538416, 76: 'fruitbat', 78: 'wombat', 80: 'fruitbat'}, 'get_ipython': <bound method InteractiveShell.get_ipython of <ipykernel.zmqshell.ZMQInteractiveShell object at 0x7fef40ca5280>>, 'exit': <IPython.core.autocall.ZMQExitAutocall object at 0x7fef40ca5e20>, 'quit': <IPython.core.autocall.ZMQExitAutocall object at 0x7fef40ca5e20>, '_': 'fruitbat', '__': 'wombat', '___': 'fruitbat', 'os': <module 'os' from '/Users/mihaelcindori/opt/anaconda3/lib/python3.9/os.py'>, 'sys': <module 'sys' (built-in)>, '__vsc_ipynb_file__': '/Users/mihaelcindori/Desktop/Introducing_Python_Modern_Computing_in_Simple_Packages/09_Functions.ipynb', '_i': 'change_local()', '_ii': 'animal', '_iii': \"animal = 'fruitbat'\\n\\ndef change_local():\\n    animal = 'wombat'\\n    print('locals',locals())\", '_i1': \"def document_it(func):\\n    def new_function(*args,**kwargs):\\n        print('Running functions:',func.__name__)\\n        print('Positional arguments:',args)\\n        print('Keyword arguments:',kwargs)\\n        result = func(*args,**kwargs)\\n        print('Result:',result)\\n        return result\\n    return new_function\", 'document_it': <function document_it at 0x7fef60769040>, '_i2': 'def add_ints(a,b):\\n    return a + b\\n\\nadd_ints()', 'add_ints': <function square_it.<locals>.new_function at 0x7fef60769dc0>, '_i3': 'def add_ints(a,b):\\n    return a + b\\n\\nadd_ints(3,5)', '_3': 8, '_i4': 'cooler_add_ints = document_it(add_ints)\\ncooler_add_ints(3,5)', 'cooler_add_ints': <function document_it.<locals>.new_function at 0x7fef607691f0>, '_4': 8, '_i5': '@document_it\\ndef add_ints(a,b):\\n    return a + b\\n\\nadd_ints(3,5)', '_5': 8, '_i6': 'def square_it(func):\\n    def new_function(*args,**kwargs):\\n        result = func(*args,**kwargs)\\n        return result * result\\n    return new_function', 'square_it': <function square_it at 0x7fef60686e50>, '_i7': 'def square_it(func):\\n    def new_function(*args,**kwargs):\\n        result = func(*args,**kwargs)\\n        return result * result\\n    return new_function', '_i8': '@document_it\\n@square_it\\ndef add_ints(a,b):\\n    return a + b\\n\\nadd_ints(3,5)', '_8': 64, '_i9': '@square_it\\n@document_it\\ndef add_ints(a,b):\\n    return a + b\\n\\nadd_ints(3,5)', '_9': 64, '_i10': \"def make_pretty(func):\\n    def inner():\\n        print('I got decorated.')\\n        return func\\n    return inner\\n\\ndef ordinary():\\n    print('I am ordinary.')\", 'make_pretty': <function make_pretty at 0x7fef509fa8b0>, 'ordinary': <function make_pretty.<locals>.inner at 0x7fef509cddc0>, '_i11': 'ordinary()', '_i12': 'pretty = make_pretty(ordinary)', 'pretty': <function make_pretty.<locals>.inner at 0x7fef509cd040>, '_i13': 'pretty()', '_13': <function ordinary at 0x7fef40c938b0>, '_i14': \"def make_pretty(func):\\n    def inner():\\n        print('I got decorated.')\\n        func()\\n    return inner\\n\\ndef ordinary():\\n    print('I am ordinary.')\", '_i15': 'ordinary()', '_i16': 'pretty = make_pretty(ordinary)', '_i17': 'pretty()', '_i18': \"def document_it(func):\\n    def new_function(*args,**kwargs):\\n        print('Running functions:',func.__name__)\\n        print('Positional arguments:',args)\\n        print('Keyword arguments:',kwargs)\\n        result = func(*args,**kwargs)\\n        print('Result:',result)\\n        return result\\n    return new_function\", '_i19': 'def add_ints(a,b):\\n    return a + b\\n\\nadd_ints(3,5)', '_19': 8, '_i20': \"# Now let's decorate add_ints function.\\ncooler_add_ints = document_it(add_ints)\\ncooler_add_ints(3,5)\", '_20': 8, '_i21': '@document_it\\ndef add_ints(a,b):\\n    return a + b\\n\\nadd_ints(3,5)', '_21': 8, '_i22': 'def square_it(func):\\n    def new_function(*args,**kwargs):\\n        result = func(*args,**kwargs)\\n        return result * result\\n    return new_function', '_i23': '@document_it\\n@square_it\\ndef add_ints(a,b):\\n    return a + b\\n\\nadd_ints(3,5)', '_23': 64, '_i24': '@square_it\\n@document_it\\ndef add_ints(a,b):\\n    return a + b\\n\\nadd_ints(3,5)', '_24': 64, '_i25': \"def make_pretty(func):\\n    def inner():\\n        print('I got decorated.')\\n        func()\\n    return inner\\n\\ndef ordinary():\\n    print('I am ordinary.')\", '_i26': 'ordinary()', '_i27': \"# Now let's decorate ordinary function.\\npretty = make_pretty(ordinary)\", '_i28': 'pretty()', '_i29': \"# Using the syntactic sugar\\n@make_pretty\\ndef ordinary():\\n    print('I am ordinary.')\\n\\nordinary()\", '_i30': '# Decorating functions with parameters\\ndef divide(a,b):\\n    return a / b\\n\\ndivide(3,5)', 'divide': <function smart_divide.<locals>.inner at 0x7fef60c52ca0>, '_30': 0.6, '_i31': '# Decorating functions with parameters\\ndef divide(a,b):\\n    return a / b\\n\\ndivide(3,5)\\ndivide(2,0)', '_i32': '# Decorating functions with parameters\\ndef divide(a,b):\\n    return a / b\\n\\ndivide(3,5)', '_32': 0.6, '_i33': 'divide(2,0)', '_i34': \"def smart_divide(func):\\n    def inner(a,b):\\n        print('I am going to divide',a,'and',b)\\n        if b == 0:\\n            print('Whoops! Cannot divide.')\\n            return\\n        return func(a,b)\\n    return inner\", 'smart_divide': <function smart_divide at 0x7fef60769f70>, '_i35': '@smart_divide\\ndef divide(a,b):\\n    return a / b\\n\\ndivide(3,5)\\ndivide(2,0)', '_i36': '@smart_divide\\ndef divide(a,b):\\n    return a / b\\n\\nprint(divide(3,5))\\ndivide(2,0)', '_i37': \"def smart_divide(func):\\n    def inner(a,b):\\n        print('I am going to divide',a,'and',b,':')\\n        if b == 0:\\n            print('Whoops! Cannot divide.')\\n            return\\n        return func(a,b)\\n    return inner\", '_i38': '@smart_divide\\ndef divide(a,b):\\n    return a / b\\n\\nprint(divide(3,5))\\ndivide(2,0)', '_i39': \"# Chaining decorators\\n\\n\\ndef printer(msg):\\n    print(msg)\\n\\nprint('Hello.')\", 'printer': <function percent.<locals>.inner at 0x7fef4111caf0>, '_i40': \"# Chaining decorators\\n\\n\\ndef printer(msg):\\n    print(msg)\\n\\nprinter('Hello.')\", '_i41': \"# Chaining decorators\\ndef star(func):\\n    def inner(*args,**kwargs):\\n        print('*' * 30)\\n        func(*args,**kwargs)\\n        print('*' * 30)\\n    return inner\\n\\ndef printer(msg):\\n    print(msg)\\n\\n@star\\nprinter('Hello.')\", '_i42': \"# Chaining decorators\\ndef star(func):\\n    def inner(*args,**kwargs):\\n        print('*' * 30)\\n        func(*args,**kwargs)\\n        print('*' * 30)\\n    return inner\\n\\n@star\\ndef printer(msg):\\n    print(msg)\\n\\nprinter('Hello.')\", 'star': <function star at 0x7fef509cdaf0>, '_i43': \"# Chaining decorators\\ndef star(func):\\n    def inner(*args,**kwargs):\\n        print('*' * 30)\\n        func(*args,**kwargs)\\n        print('*' * 30)\\n    return inner\\n\\ndef percent(func):\\n    def inner(*args,**kwargs):\\n        print('%' * 30)\\n        func(*args,**kwargs)\\n        print('%' * 30)\\n    return inner    \", 'percent': <function percent at 0x7fef509fa790>, '_i44': \"@star\\n@percent\\ndef printer(msg):\\n    print(msg)\\n\\nprinter('Hello.')\", '_i45': \"@percent\\n@star\\ndef printer(msg):\\n    print(msg)\\n\\nprinter('Hello.')\", '_i46': \"animal = 'fruitbat'\\n\\ndef print_global():\\n    print('inside print_global:',animal)\\n\\nprint('at the top level:',animal)\\nprint_global()\", 'animal': 'fruitbat', 'print_global': <function print_global at 0x7fef509cd940>, '_i47': \"def change_and_print_global():\\n    print('inside change_and_print_global:',animal)\\n    animal = 'wombat'\\n    print('after the change:',animal)\\n\\nchange_and_print_global()\", 'change_and_print_global': <function change_and_print_global at 0x7fef6075ddc0>, '_i48': \"def change_local():\\n    animal = 'wombat'\\n    print('inside change_local:',animal,id(animal))\", 'change_local': <function change_local at 0x7fef6075dd30>, '_i49': \"def change_local():\\n    animal = 'wombat'\\n    print('inside change_local:',animal,id(animal))\\n\\nchange_local()\", '_i50': 'animal', '_50': 'fruitbat', '_i51': 'id(animal)', '_51': 140665565538416, '_i52': \"def document_it(func):\\n    def new_function(*args,**kwargs):\\n        print('Running functions:',func.__name__)\\n        print('Positional arguments:',args)\\n        print('Keyword arguments:',kwargs)\\n        result = func(*args,**kwargs)\\n        print('Result:',result)\\n        return result\\n    return new_function\", '_i53': 'def add_ints(a,b):\\n    return a + b\\n\\nadd_ints(3,5)', '_53': 8, '_i54': \"# Now let's decorate add_ints function.\\ncooler_add_ints = document_it(add_ints)\\ncooler_add_ints(3,5)\", '_54': 8, '_i55': '@document_it\\ndef add_ints(a,b):\\n    return a + b\\n\\nadd_ints(3,5)', '_55': 8, '_i56': 'def square_it(func):\\n    def new_function(*args,**kwargs):\\n        result = func(*args,**kwargs)\\n        return result * result\\n    return new_function', '_i57': '@document_it\\n@square_it\\ndef add_ints(a,b):\\n    return a + b\\n\\nadd_ints(3,5)', '_57': 64, '_i58': '@square_it\\n@document_it\\ndef add_ints(a,b):\\n    return a + b\\n\\nadd_ints(3,5)', '_58': 64, '_i59': \"def make_pretty(func):\\n    def inner():\\n        print('I got decorated.')\\n        func()\\n    return inner\\n\\ndef ordinary():\\n    print('I am ordinary.')\", '_i60': 'ordinary()', '_i61': \"# Now let's decorate ordinary function.\\npretty = make_pretty(ordinary)\", '_i62': 'pretty()', '_i63': \"# Using the syntactic sugar\\n@make_pretty\\ndef ordinary():\\n    print('I am ordinary.')\\n\\nordinary()\", '_i64': '# Decorating functions with parameters\\ndef divide(a,b):\\n    return a / b\\n\\ndivide(3,5)', '_64': 0.6, '_i65': \"def smart_divide(func):\\n    def inner(a,b):\\n        print('I am going to divide',a,'and',b,':')\\n        if b == 0:\\n            print('Whoops! Cannot divide.')\\n            return\\n        return func(a,b)\\n    return inner\", '_i66': '@smart_divide\\ndef divide(a,b):\\n    return a / b\\n\\nprint(divide(3,5))\\ndivide(2,0)', '_i67': \"# Chaining decorators\\ndef star(func):\\n    def inner(*args,**kwargs):\\n        print('*' * 30)\\n        func(*args,**kwargs)\\n        print('*' * 30)\\n    return inner\\n\\ndef percent(func):\\n    def inner(*args,**kwargs):\\n        print('%' * 30)\\n        func(*args,**kwargs)\\n        print('%' * 30)\\n    return inner    \", '_i68': \"@star\\n@percent\\ndef printer(msg):\\n    print(msg)\\n\\nprinter('Hello.')\", '_i69': \"@percent\\n@star\\ndef printer(msg):\\n    print(msg)\\n\\nprinter('Hello.')\", '_i70': \"animal = 'fruitbat'\\n\\ndef print_global():\\n    print('inside print_global:',animal)\\n\\nprint('at the top level:',animal)\\nprint_global()\", '_i71': \"def change_and_print_global():\\n    print('inside change_and_print_global:',animal)\\n    animal = 'wombat'\\n    print('after the change:',animal)\\n\\nchange_and_print_global()\", '_i72': \"def change_local():\\n    animal = 'wombat'\\n    print('inside change_local:',animal,id(animal))\\n\\nchange_local()\", '_i73': 'animal', '_73': 'fruitbat', '_i74': 'id(animal)', '_74': 140665565538416, '_i75': \"def change_and_print_global():\\n    global animal\\n    animal = 'wombat'\\n    print('inside change_and_print_global:',animal)\", '_i76': 'animal', '_76': 'fruitbat', '_i77': 'change_and_print_global()', '_i78': 'animal', '_78': 'wombat', '_i79': \"animal = 'fruitbat'\\n\\ndef change_local():\\n    animal = 'wombat'\\n    print('locals',locals())\", '_i80': 'animal', '_80': 'fruitbat', '_i81': 'change_local()', '_i82': \"print('globals:',globals())\"}\n"
     ]
    }
   ],
   "source": [
    "print('globals:',globals())"
   ]
  },
  {
   "cell_type": "code",
   "execution_count": 83,
   "metadata": {},
   "outputs": [
    {
     "data": {
      "text/plain": [
       "'fruitbat'"
      ]
     },
     "execution_count": 83,
     "metadata": {},
     "output_type": "execute_result"
    }
   ],
   "source": [
    "animal"
   ]
  },
  {
   "cell_type": "markdown",
   "metadata": {},
   "source": [
    "### Recursion\n",
    "\n",
    "When function calls itself..."
   ]
  },
  {
   "cell_type": "code",
   "execution_count": 84,
   "metadata": {},
   "outputs": [],
   "source": [
    "def dive():\n",
    "    return dive()"
   ]
  },
  {
   "cell_type": "code",
   "execution_count": 85,
   "metadata": {},
   "outputs": [
    {
     "ename": "RecursionError",
     "evalue": "maximum recursion depth exceeded",
     "output_type": "error",
     "traceback": [
      "\u001b[0;31m---------------------------------------------------------------------------\u001b[0m",
      "\u001b[0;31mRecursionError\u001b[0m                            Traceback (most recent call last)",
      "\u001b[1;32m/Users/mihaelcindori/Desktop/Introducing_Python_Modern_Computing_in_Simple_Packages/09_Functions.ipynb Cell 45\u001b[0m in \u001b[0;36m<cell line: 1>\u001b[0;34m()\u001b[0m\n\u001b[0;32m----> <a href='vscode-notebook-cell:/Users/mihaelcindori/Desktop/Introducing_Python_Modern_Computing_in_Simple_Packages/09_Functions.ipynb#Y101sZmlsZQ%3D%3D?line=0'>1</a>\u001b[0m dive()\n",
      "\u001b[1;32m/Users/mihaelcindori/Desktop/Introducing_Python_Modern_Computing_in_Simple_Packages/09_Functions.ipynb Cell 45\u001b[0m in \u001b[0;36mdive\u001b[0;34m()\u001b[0m\n\u001b[1;32m      <a href='vscode-notebook-cell:/Users/mihaelcindori/Desktop/Introducing_Python_Modern_Computing_in_Simple_Packages/09_Functions.ipynb#Y101sZmlsZQ%3D%3D?line=0'>1</a>\u001b[0m \u001b[39mdef\u001b[39;00m \u001b[39mdive\u001b[39m():\n\u001b[0;32m----> <a href='vscode-notebook-cell:/Users/mihaelcindori/Desktop/Introducing_Python_Modern_Computing_in_Simple_Packages/09_Functions.ipynb#Y101sZmlsZQ%3D%3D?line=1'>2</a>\u001b[0m     \u001b[39mreturn\u001b[39;00m dive()\n",
      "\u001b[1;32m/Users/mihaelcindori/Desktop/Introducing_Python_Modern_Computing_in_Simple_Packages/09_Functions.ipynb Cell 45\u001b[0m in \u001b[0;36mdive\u001b[0;34m()\u001b[0m\n\u001b[1;32m      <a href='vscode-notebook-cell:/Users/mihaelcindori/Desktop/Introducing_Python_Modern_Computing_in_Simple_Packages/09_Functions.ipynb#Y101sZmlsZQ%3D%3D?line=0'>1</a>\u001b[0m \u001b[39mdef\u001b[39;00m \u001b[39mdive\u001b[39m():\n\u001b[0;32m----> <a href='vscode-notebook-cell:/Users/mihaelcindori/Desktop/Introducing_Python_Modern_Computing_in_Simple_Packages/09_Functions.ipynb#Y101sZmlsZQ%3D%3D?line=1'>2</a>\u001b[0m     \u001b[39mreturn\u001b[39;00m dive()\n",
      "    \u001b[0;31m[... skipping similar frames: dive at line 2 (2970 times)]\u001b[0m\n",
      "\u001b[1;32m/Users/mihaelcindori/Desktop/Introducing_Python_Modern_Computing_in_Simple_Packages/09_Functions.ipynb Cell 45\u001b[0m in \u001b[0;36mdive\u001b[0;34m()\u001b[0m\n\u001b[1;32m      <a href='vscode-notebook-cell:/Users/mihaelcindori/Desktop/Introducing_Python_Modern_Computing_in_Simple_Packages/09_Functions.ipynb#Y101sZmlsZQ%3D%3D?line=0'>1</a>\u001b[0m \u001b[39mdef\u001b[39;00m \u001b[39mdive\u001b[39m():\n\u001b[0;32m----> <a href='vscode-notebook-cell:/Users/mihaelcindori/Desktop/Introducing_Python_Modern_Computing_in_Simple_Packages/09_Functions.ipynb#Y101sZmlsZQ%3D%3D?line=1'>2</a>\u001b[0m     \u001b[39mreturn\u001b[39;00m dive()\n",
      "\u001b[0;31mRecursionError\u001b[0m: maximum recursion depth exceeded"
     ]
    }
   ],
   "source": [
    "dive()"
   ]
  },
  {
   "cell_type": "markdown",
   "metadata": {},
   "source": [
    "##### Example of recursion usage\n",
    "\n",
    "Make a function that flattens all the sublists of a list."
   ]
  },
  {
   "cell_type": "code",
   "execution_count": 86,
   "metadata": {},
   "outputs": [],
   "source": [
    "def flatten(lol):\n",
    "    for item in lol:\n",
    "        if isinstance(item,list):\n",
    "            for subitem in flatten(item):\n",
    "                yield subitem\n",
    "        else:\n",
    "            yield item"
   ]
  },
  {
   "cell_type": "code",
   "execution_count": 87,
   "metadata": {},
   "outputs": [],
   "source": [
    "lol = [1,2,[3,4,5],[6,[7,8,9],[]]]"
   ]
  },
  {
   "cell_type": "code",
   "execution_count": 88,
   "metadata": {},
   "outputs": [
    {
     "data": {
      "text/plain": [
       "<generator object flatten at 0x7fef50a00dd0>"
      ]
     },
     "execution_count": 88,
     "metadata": {},
     "output_type": "execute_result"
    }
   ],
   "source": [
    "flatten(lol)"
   ]
  },
  {
   "cell_type": "code",
   "execution_count": 89,
   "metadata": {},
   "outputs": [
    {
     "data": {
      "text/plain": [
       "[1, 2, 3, 4, 5, 6, 7, 8, 9]"
      ]
     },
     "execution_count": 89,
     "metadata": {},
     "output_type": "execute_result"
    }
   ],
   "source": [
    "list(flatten(lol))"
   ]
  },
  {
   "cell_type": "markdown",
   "metadata": {},
   "source": [
    "Using the <code>yield from</code> expression..."
   ]
  },
  {
   "cell_type": "code",
   "execution_count": 90,
   "metadata": {},
   "outputs": [],
   "source": [
    "def flatten(lol):\n",
    "    for item in lol:\n",
    "        if isinstance(item,list):\n",
    "            yield from flatten(item)\n",
    "        else:\n",
    "            yield item"
   ]
  },
  {
   "cell_type": "code",
   "execution_count": 91,
   "metadata": {},
   "outputs": [],
   "source": [
    "lol = [1,2,[3,4,5],[6,[7,8,9],[]]]"
   ]
  },
  {
   "cell_type": "code",
   "execution_count": 92,
   "metadata": {},
   "outputs": [
    {
     "data": {
      "text/plain": [
       "[1, 2, 3, 4, 5, 6, 7, 8, 9]"
      ]
     },
     "execution_count": 92,
     "metadata": {},
     "output_type": "execute_result"
    }
   ],
   "source": [
    "list(flatten(lol))"
   ]
  }
 ],
 "metadata": {
  "kernelspec": {
   "display_name": "Python 3.9.12 ('base')",
   "language": "python",
   "name": "python3"
  },
  "language_info": {
   "codemirror_mode": {
    "name": "ipython",
    "version": 3
   },
   "file_extension": ".py",
   "mimetype": "text/x-python",
   "name": "python",
   "nbconvert_exporter": "python",
   "pygments_lexer": "ipython3",
   "version": "3.9.12"
  },
  "orig_nbformat": 4,
  "vscode": {
   "interpreter": {
    "hash": "e1a068e2796038083fa1cc314aadcccdb37037656e5182611097862070cdd14f"
   }
  }
 },
 "nbformat": 4,
 "nbformat_minor": 2
}
